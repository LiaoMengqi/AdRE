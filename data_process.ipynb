{
 "cells": [
  {
   "cell_type": "code",
   "execution_count": 4,
   "id": "initial_id",
   "metadata": {
    "ExecuteTime": {
     "end_time": "2025-03-16T12:56:24.175654Z",
     "start_time": "2025-03-16T12:56:24.172318Z"
    },
    "collapsed": true
   },
   "outputs": [],
   "source": [
    "import datasets\n",
    "from datasets import load_dataset\n",
    "import json"
   ]
  },
  {
   "cell_type": "code",
   "execution_count": 24,
   "id": "6f2c3067aac0d03c",
   "metadata": {
    "ExecuteTime": {
     "end_time": "2025-03-16T12:59:21.501717Z",
     "start_time": "2025-03-16T12:59:18.736942Z"
    }
   },
   "outputs": [],
   "source": [
    "data_=[]\n",
    "with open('/data/MaoXiaowei/models/sier/data/extend_data_finish_46k.jsonl') as f:\n",
    "    for line in f:\n",
    "        data_.append(json.loads(line))"
   ]
  },
  {
   "cell_type": "code",
   "execution_count": 35,
   "id": "67b12e3d1a8a90fa",
   "metadata": {
    "ExecuteTime": {
     "end_time": "2025-03-16T13:08:05.443584Z",
     "start_time": "2025-03-16T13:08:05.437558Z"
    }
   },
   "outputs": [
    {
     "data": {
      "text/plain": [
       "{'deepseek_reasoning': '1. Hypothesize \\\\( x * y = 1 + xy \\\\).\\n2. Verify \\\\( x * 0 = 1 \\\\) holds.\\n3. Verify \\\\( (x * y) * z = (z * (xy)) + z \\\\) holds.\\n4. Compute \\\\( 31 * 32 = 1 + 31 \\\\cdot 32 = 993 \\\\).',\n",
       " 'deepseek_solution': '\\\\boxed{993}',\n",
       " 'prompt': [{'content': 'Please reason step by step and put the final answer in \\\\boxed{}.',\n",
       "   'role': 'system'},\n",
       "  {'content': 'In the set of real numbers $\\\\mathbf{R}$, define the operation $*$ satisfying:\\n(i) $x * 0 = 1$ (for any $x \\\\in \\\\mathbf{R}$).\\n(ii) $(x * y) * z = (z * x y) + z$ (for any $x, y, z \\\\in $\\\\mathbf{R}$).\\nFind $31 * 32$.',\n",
       "   'role': 'user'}],\n",
       " 'domain': 'math',\n",
       " 'language': 'en',\n",
       " 'data_id': 0,\n",
       " 'prompt_id': 1}"
      ]
     },
     "execution_count": 35,
     "metadata": {},
     "output_type": "execute_result"
    }
   ],
   "source": [
    "data_[1]"
   ]
  },
  {
   "cell_type": "code",
   "execution_count": 31,
   "id": "50c7e35f5decf87e",
   "metadata": {
    "ExecuteTime": {
     "end_time": "2025-03-16T13:04:31.501388Z",
     "start_time": "2025-03-16T13:04:26.670078Z"
    }
   },
   "outputs": [],
   "source": [
    "from transformers import AutoTokenizer"
   ]
  },
  {
   "cell_type": "code",
   "execution_count": 32,
   "id": "472193dc14990097",
   "metadata": {
    "ExecuteTime": {
     "end_time": "2025-03-16T13:04:32.504588Z",
     "start_time": "2025-03-16T13:04:31.503812Z"
    }
   },
   "outputs": [],
   "source": [
    "path='/data/MaoXiaowei/models/model/deepseek-ai/DeepSeek-R1-Distill-Qwen-1___5B/'\n",
    "tokenizer = AutoTokenizer.from_pretrained(path, trust_remote_code=True)"
   ]
  },
  {
   "cell_type": "code",
   "execution_count": 37,
   "id": "8df280e73ce40af9",
   "metadata": {
    "ExecuteTime": {
     "end_time": "2025-03-16T13:09:50.091158Z",
     "start_time": "2025-03-16T13:09:46.437417Z"
    }
   },
   "outputs": [],
   "source": [
    "dataset = datasets.Dataset.from_list(data_)"
   ]
  },
  {
   "cell_type": "code",
   "execution_count": 38,
   "id": "35d6f5df57fe135d",
   "metadata": {
    "ExecuteTime": {
     "end_time": "2025-03-16T13:09:57.220616Z",
     "start_time": "2025-03-16T13:09:57.215033Z"
    }
   },
   "outputs": [
    {
     "data": {
      "text/plain": [
       "Dataset({\n",
       "    features: ['deepseek_reasoning', 'deepseek_solution', 'prompt', 'domain', 'language', 'data_id', 'prompt_id', 'length'],\n",
       "    num_rows: 46650\n",
       "})"
      ]
     },
     "execution_count": 38,
     "metadata": {},
     "output_type": "execute_result"
    }
   ],
   "source": [
    "dataset"
   ]
  },
  {
   "cell_type": "code",
   "execution_count": 39,
   "id": "34946b207c78e7cf",
   "metadata": {
    "ExecuteTime": {
     "end_time": "2025-03-16T13:15:32.180299Z",
     "start_time": "2025-03-16T13:10:06.844344Z"
    }
   },
   "outputs": [
    {
     "data": {
      "application/vnd.jupyter.widget-view+json": {
       "model_id": "e15b3134572343ca8f203a6479e086d6",
       "version_major": 2,
       "version_minor": 0
      },
      "text/plain": [
       "Map:   0%|          | 0/46650 [00:00<?, ? examples/s]"
      ]
     },
     "metadata": {},
     "output_type": "display_data"
    }
   ],
   "source": [
    "# 转换为数据集\n",
    "def map_function(example):\n",
    "    output_ids = tokenizer(example['deepseek_reasoning']+example['deepseek_solution']).input_ids\n",
    "    example['length'] = len(output_ids)\n",
    "    return example\n",
    "\n",
    "# 使用数据集的map方法\n",
    "dataset = dataset.map(map_function)"
   ]
  },
  {
   "cell_type": "code",
   "execution_count": 43,
   "id": "77c83fcb70bdbfb5",
   "metadata": {
    "ExecuteTime": {
     "end_time": "2025-03-16T13:17:34.366937Z",
     "start_time": "2025-03-16T13:16:52.260729Z"
    }
   },
   "outputs": [
    {
     "ename": "KeyboardInterrupt",
     "evalue": "",
     "output_type": "error",
     "traceback": [
      "\u001B[0;31m---------------------------------------------------------------------------\u001B[0m",
      "\u001B[0;31mKeyboardInterrupt\u001B[0m                         Traceback (most recent call last)",
      "Cell \u001B[0;32mIn[43], line 2\u001B[0m\n\u001B[1;32m      1\u001B[0m \u001B[38;5;66;03m# 根据 length 对数据集进行排序\u001B[39;00m\n\u001B[0;32m----> 2\u001B[0m dataset \u001B[38;5;241m=\u001B[39m \u001B[43mdataset\u001B[49m\u001B[38;5;241;43m.\u001B[39;49m\u001B[43msort\u001B[49m\u001B[43m(\u001B[49m\u001B[38;5;124;43m'\u001B[39;49m\u001B[38;5;124;43mlength\u001B[39;49m\u001B[38;5;124;43m'\u001B[39;49m\u001B[43m)\u001B[49m\n\u001B[1;32m      3\u001B[0m dataset[\u001B[38;5;241m1\u001B[39m]\n",
      "File \u001B[0;32m~/anaconda3/envs/tfcgpt/lib/python3.9/site-packages/datasets/arrow_dataset.py:558\u001B[0m, in \u001B[0;36mtransmit_format.<locals>.wrapper\u001B[0;34m(*args, **kwargs)\u001B[0m\n\u001B[1;32m    551\u001B[0m self_format \u001B[38;5;241m=\u001B[39m {\n\u001B[1;32m    552\u001B[0m     \u001B[38;5;124m\"\u001B[39m\u001B[38;5;124mtype\u001B[39m\u001B[38;5;124m\"\u001B[39m: \u001B[38;5;28mself\u001B[39m\u001B[38;5;241m.\u001B[39m_format_type,\n\u001B[1;32m    553\u001B[0m     \u001B[38;5;124m\"\u001B[39m\u001B[38;5;124mformat_kwargs\u001B[39m\u001B[38;5;124m\"\u001B[39m: \u001B[38;5;28mself\u001B[39m\u001B[38;5;241m.\u001B[39m_format_kwargs,\n\u001B[1;32m    554\u001B[0m     \u001B[38;5;124m\"\u001B[39m\u001B[38;5;124mcolumns\u001B[39m\u001B[38;5;124m\"\u001B[39m: \u001B[38;5;28mself\u001B[39m\u001B[38;5;241m.\u001B[39m_format_columns,\n\u001B[1;32m    555\u001B[0m     \u001B[38;5;124m\"\u001B[39m\u001B[38;5;124moutput_all_columns\u001B[39m\u001B[38;5;124m\"\u001B[39m: \u001B[38;5;28mself\u001B[39m\u001B[38;5;241m.\u001B[39m_output_all_columns,\n\u001B[1;32m    556\u001B[0m }\n\u001B[1;32m    557\u001B[0m \u001B[38;5;66;03m# apply actual function\u001B[39;00m\n\u001B[0;32m--> 558\u001B[0m out: Union[\u001B[38;5;124m\"\u001B[39m\u001B[38;5;124mDataset\u001B[39m\u001B[38;5;124m\"\u001B[39m, \u001B[38;5;124m\"\u001B[39m\u001B[38;5;124mDatasetDict\u001B[39m\u001B[38;5;124m\"\u001B[39m] \u001B[38;5;241m=\u001B[39m \u001B[43mfunc\u001B[49m\u001B[43m(\u001B[49m\u001B[38;5;28;43mself\u001B[39;49m\u001B[43m,\u001B[49m\u001B[43m \u001B[49m\u001B[38;5;241;43m*\u001B[39;49m\u001B[43margs\u001B[49m\u001B[43m,\u001B[49m\u001B[43m \u001B[49m\u001B[38;5;241;43m*\u001B[39;49m\u001B[38;5;241;43m*\u001B[39;49m\u001B[43mkwargs\u001B[49m\u001B[43m)\u001B[49m\n\u001B[1;32m    559\u001B[0m datasets: List[\u001B[38;5;124m\"\u001B[39m\u001B[38;5;124mDataset\u001B[39m\u001B[38;5;124m\"\u001B[39m] \u001B[38;5;241m=\u001B[39m \u001B[38;5;28mlist\u001B[39m(out\u001B[38;5;241m.\u001B[39mvalues()) \u001B[38;5;28;01mif\u001B[39;00m \u001B[38;5;28misinstance\u001B[39m(out, \u001B[38;5;28mdict\u001B[39m) \u001B[38;5;28;01melse\u001B[39;00m [out]\n\u001B[1;32m    560\u001B[0m \u001B[38;5;66;03m# re-apply format to the output\u001B[39;00m\n",
      "File \u001B[0;32m~/anaconda3/envs/tfcgpt/lib/python3.9/site-packages/datasets/fingerprint.py:482\u001B[0m, in \u001B[0;36mfingerprint_transform.<locals>._fingerprint.<locals>.wrapper\u001B[0;34m(*args, **kwargs)\u001B[0m\n\u001B[1;32m    478\u001B[0m             validate_fingerprint(kwargs[fingerprint_name])\n\u001B[1;32m    480\u001B[0m \u001B[38;5;66;03m# Call actual function\u001B[39;00m\n\u001B[0;32m--> 482\u001B[0m out \u001B[38;5;241m=\u001B[39m \u001B[43mfunc\u001B[49m\u001B[43m(\u001B[49m\u001B[43mdataset\u001B[49m\u001B[43m,\u001B[49m\u001B[43m \u001B[49m\u001B[38;5;241;43m*\u001B[39;49m\u001B[43margs\u001B[49m\u001B[43m,\u001B[49m\u001B[43m \u001B[49m\u001B[38;5;241;43m*\u001B[39;49m\u001B[38;5;241;43m*\u001B[39;49m\u001B[43mkwargs\u001B[49m\u001B[43m)\u001B[49m\n\u001B[1;32m    484\u001B[0m \u001B[38;5;66;03m# Update fingerprint of in-place transforms + update in-place history of transforms\u001B[39;00m\n\u001B[1;32m    486\u001B[0m \u001B[38;5;28;01mif\u001B[39;00m inplace:  \u001B[38;5;66;03m# update after calling func so that the fingerprint doesn't change if the function fails\u001B[39;00m\n",
      "File \u001B[0;32m~/anaconda3/envs/tfcgpt/lib/python3.9/site-packages/datasets/arrow_dataset.py:4136\u001B[0m, in \u001B[0;36mDataset.sort\u001B[0;34m(self, column_names, reverse, kind, null_placement, keep_in_memory, load_from_cache_file, indices_cache_file_name, writer_batch_size, new_fingerprint)\u001B[0m\n\u001B[1;32m   4126\u001B[0m sort_table \u001B[38;5;241m=\u001B[39m query_table(\n\u001B[1;32m   4127\u001B[0m     table\u001B[38;5;241m=\u001B[39m\u001B[38;5;28mself\u001B[39m\u001B[38;5;241m.\u001B[39m_data,\n\u001B[1;32m   4128\u001B[0m     key\u001B[38;5;241m=\u001B[39m\u001B[38;5;28mslice\u001B[39m(\u001B[38;5;241m0\u001B[39m, \u001B[38;5;28mlen\u001B[39m(\u001B[38;5;28mself\u001B[39m)),\n\u001B[1;32m   4129\u001B[0m     indices\u001B[38;5;241m=\u001B[39m\u001B[38;5;28mself\u001B[39m\u001B[38;5;241m.\u001B[39m_indices,\n\u001B[1;32m   4130\u001B[0m )\n\u001B[1;32m   4132\u001B[0m sort_keys \u001B[38;5;241m=\u001B[39m [\n\u001B[1;32m   4133\u001B[0m     (col, \u001B[38;5;124m\"\u001B[39m\u001B[38;5;124mascending\u001B[39m\u001B[38;5;124m\"\u001B[39m \u001B[38;5;28;01mif\u001B[39;00m \u001B[38;5;129;01mnot\u001B[39;00m col_reverse \u001B[38;5;28;01melse\u001B[39;00m \u001B[38;5;124m\"\u001B[39m\u001B[38;5;124mdescending\u001B[39m\u001B[38;5;124m\"\u001B[39m) \u001B[38;5;28;01mfor\u001B[39;00m col, col_reverse \u001B[38;5;129;01min\u001B[39;00m \u001B[38;5;28mzip\u001B[39m(column_names, reverse)\n\u001B[1;32m   4134\u001B[0m ]\n\u001B[0;32m-> 4136\u001B[0m indices \u001B[38;5;241m=\u001B[39m \u001B[43mpc\u001B[49m\u001B[38;5;241;43m.\u001B[39;49m\u001B[43msort_indices\u001B[49m\u001B[43m(\u001B[49m\u001B[43msort_table\u001B[49m\u001B[43m,\u001B[49m\u001B[43m \u001B[49m\u001B[43msort_keys\u001B[49m\u001B[38;5;241;43m=\u001B[39;49m\u001B[43msort_keys\u001B[49m\u001B[43m,\u001B[49m\u001B[43m \u001B[49m\u001B[43mnull_placement\u001B[49m\u001B[38;5;241;43m=\u001B[39;49m\u001B[43mnull_placement\u001B[49m\u001B[43m)\u001B[49m\n\u001B[1;32m   4138\u001B[0m \u001B[38;5;28;01mreturn\u001B[39;00m \u001B[38;5;28mself\u001B[39m\u001B[38;5;241m.\u001B[39mselect(\n\u001B[1;32m   4139\u001B[0m     indices\u001B[38;5;241m=\u001B[39mindices,\n\u001B[1;32m   4140\u001B[0m     keep_in_memory\u001B[38;5;241m=\u001B[39mkeep_in_memory,\n\u001B[0;32m   (...)\u001B[0m\n\u001B[1;32m   4143\u001B[0m     new_fingerprint\u001B[38;5;241m=\u001B[39mnew_fingerprint,\n\u001B[1;32m   4144\u001B[0m )\n",
      "File \u001B[0;32m~/anaconda3/envs/tfcgpt/lib/python3.9/site-packages/pyarrow/compute.py:263\u001B[0m, in \u001B[0;36m_make_generic_wrapper.<locals>.wrapper\u001B[0;34m(memory_pool, options, *args, **kwargs)\u001B[0m\n\u001B[1;32m    261\u001B[0m \u001B[38;5;28;01mif\u001B[39;00m args \u001B[38;5;129;01mand\u001B[39;00m \u001B[38;5;28misinstance\u001B[39m(args[\u001B[38;5;241m0\u001B[39m], Expression):\n\u001B[1;32m    262\u001B[0m     \u001B[38;5;28;01mreturn\u001B[39;00m Expression\u001B[38;5;241m.\u001B[39m_call(func_name, \u001B[38;5;28mlist\u001B[39m(args), options)\n\u001B[0;32m--> 263\u001B[0m \u001B[38;5;28;01mreturn\u001B[39;00m \u001B[43mfunc\u001B[49m\u001B[38;5;241;43m.\u001B[39;49m\u001B[43mcall\u001B[49m\u001B[43m(\u001B[49m\u001B[43margs\u001B[49m\u001B[43m,\u001B[49m\u001B[43m \u001B[49m\u001B[43moptions\u001B[49m\u001B[43m,\u001B[49m\u001B[43m \u001B[49m\u001B[43mmemory_pool\u001B[49m\u001B[43m)\u001B[49m\n",
      "\u001B[0;31mKeyboardInterrupt\u001B[0m: "
     ]
    }
   ],
   "source": [
    "# 根据 length 对数据集进行排序\n",
    "dataset = dataset.sort('length')"
   ]
  },
  {
   "cell_type": "code",
   "execution_count": 50,
   "id": "1d33892486d1cd08",
   "metadata": {
    "ExecuteTime": {
     "end_time": "2025-03-16T13:20:17.727745Z",
     "start_time": "2025-03-16T13:20:04.952242Z"
    }
   },
   "outputs": [
    {
     "data": {
      "application/vnd.jupyter.widget-view+json": {
       "model_id": "316833cabcf749b0bb940691624e6c10",
       "version_major": 2,
       "version_minor": 0
      },
      "text/plain": [
       "Map:   0%|          | 0/46650 [00:00<?, ? examples/s]"
      ]
     },
     "metadata": {},
     "output_type": "display_data"
    }
   ],
   "source": [
    "# 添加 rank 列\n",
    "dataset = dataset.map(lambda x, i: {'rank': i/len(dataset)}, with_indices=True)\n"
   ]
  },
  {
   "cell_type": "code",
   "execution_count": 67,
   "id": "be30cee8dd1bcb0",
   "metadata": {
    "ExecuteTime": {
     "end_time": "2025-03-16T13:23:01.327084Z",
     "start_time": "2025-03-16T13:23:01.307127Z"
    }
   },
   "outputs": [
    {
     "data": {
      "text/plain": [
       "{'deepseek_reasoning': 'Okay, I need to solve this problem where I have to find the number of unique divisors of a friendly number that are not divisors of any of the unfriendly numbers. Let\\'s think through how to approach this.\\n\\nFirst, the problem says that the friendly number is f, and there are n unfriendly numbers. The task is to find all divisors of f that do not divide any of the unfriendly numbers. Then, count how many such divisors there are.\\n\\nHmm. Let\\'s start by understanding the sample input. In the sample, the friendly number is 16. Its divisors are 1, 2, 4, 8, 16. Then, for each of these, check if any of the unfriendly numbers (like 2,5,7, etc.) are divisible by these divisors. Wait, no—wait, wait. Wait, no. Wait, the divisors of the friendly number are possible candidates. For each such divisor d (of f), we need to check whether d divides any of the unfriendly numbers. Because if d divides any unfriendly number, then d is a common divisor and thus should be excluded. Wait, no—the problem states that the divisor of the friendly number should not be a divisor of any of the unfriendly numbers. So, for a divisor d of f, if there exists at least one unfriendly number that is divisible by d, then d is excluded. Otherwise, it\\'s counted.\\n\\nSo the approach is:\\n\\n1. Find all the divisors of f.\\n2. For each divisor d of f, check if any of the unfriendly numbers is divisible by d.\\n3. If none of the unfriendly numbers is divisible by d, count d.\\n4. The total count is the answer.\\n\\nBut wait, for the sample input, the divisor 16 of f=16. None of the unfriendly numbers are divisible by 16. The sample\\'s output is 1, which is correct.\\n\\nBut how do we compute this efficiently, especially given that n can be up to 1e6 and the unfriendly numbers can be up to 1e18? Because checking each divisor of f against each unfriendly number would be too slow. For example, if f has a lot of divisors (like 1e6), and n is 1e6, that\\'s 1e12 operations, which is impossible.\\n\\nSo we need a smarter approach.\\n\\nAlternative idea: For each divisor d of f, we need to check if any of the unfriendly numbers is divisible by d. So d is a divisor of at least one unfriendly number. So the problem reduces to finding the set of divisors of f that are not divisors of any of the unfriendly numbers.\\n\\nWait, but the unfriendly numbers can be very large. So we can\\'t compute their divisors directly. So how can we check if there\\'s any unfriendly number divisible by d for a given d?\\n\\nWait, for a given d (a divisor of f), any unfriendly number u that is divisible by d must have d as a divisor. So for each d, we can check if any u in the unfriendly list is divisible by d. If yes, then d is not counted. Otherwise, it is counted.\\n\\nBut checking each u for divisibility by d for all d\\'s of f would be O(k * n), where k is the number of divisors of f. For n up to 1e6 and k up to 1e5 (since for f up to 1e13, the maximum number of divisors is 1344 for 963761198400, which is 1e12), but even 1e5 * 1e6 is 1e11 operations. That\\'s way too slow.\\n\\nSo we need a way to compute for each divisor d of f, whether there exists at least one u in the unfriendly list that is divisible by d. How can this be done efficiently?\\n\\nAlternative approach: For each u in the unfriendly list, compute the greatest common divisor (gcd) with f. Because if u and f have a gcd of g, then all divisors of g are common divisors of u and f. So any divisor of f that divides u must be a divisor of g. Therefore, for each u, the set of d\\'s that divide both f and u are exactly the divisors of gcd(u, f). Therefore, the union of all such divisors across all u\\'s is the set of d\\'s (divisors of f) that divide at least one u. Thus, the answer is the number of divisors of f that are not in this union.\\n\\nSo the steps are:\\n\\n1. Compute all divisors of f.\\n\\n2. For each unfriendly number u, compute the gcd of u and f. Then, collect all the divisors of this gcd. These are the divisors of f that divide u. We need to collect all such divisors across all u\\'s, and then subtract their count from the total number of divisors of f.\\n\\nBut even collecting all the divisors for each u\\'s gcd with f would be O(n * d(g)), where d(g) is the number of divisors of the gcd. For example, if each u\\'s gcd with f is 1, then for each u we have the divisor 1. So if there are 1e6 u\\'s, then 1e6 times 1 divisor. Then the union of all these divisors would be {1}, which is correct. But if the gcd is a number with many divisors, like 1e6, which has 100 divisors, then for each u, we add 100 divisors. But 1e6 u\\'s * 100 is 1e8, which is manageable? Well, maybe not. But perhaps we can find a smarter way.\\n\\nWait, but for each u, the gcd of u and f is g. The set of divisors of g is a subset of the divisors of f, since g divides f. So for each u, the divisors that are common between f and u are exactly the divisors of g. So the union of all these divisors across all u is the set of all divisors of f that divide at least one u.\\n\\nThus, the answer is the number of divisors of f that are not in this union.\\n\\nSo the problem reduces to:\\n\\nCompute all divisors of f.\\n\\nCompute the set S = union of all divisors of gcd(u, f) for each u in the unfriendly numbers.\\n\\nThe answer is the number of divisors of f not in S.\\n\\nSo how do we compute S efficiently?\\n\\nBut S can be represented as the set of all divisors of f that divide at least one gcd(u, f). Wait, no. Wait, each element in S is a divisor of some gcd(u, f), which in turn is a divisor of f. So S is the set of all divisors of f that divide at least one of the gcd(u, f) values. But since each gcd(u, f) is a divisor of f, S is the union of all divisors of all the gcd(u, f) for each u. Which is the same as the set of all d (divisors of f) such that there exists some u where d divides gcd(u, f), which is equivalent to d divides u (since d divides f and d divides u, then d divides their gcd). Wait, maybe I need to think more carefully.\\n\\nWait, for a divisor d of f, d is in S if and only if there exists at least one u such that d divides u. Because:\\n\\nIf d divides u, then d divides the gcd(u, f), because d divides both u and f. So the gcd(u, f) is a multiple of d. Therefore, d is a divisor of the gcd(u, f), hence is included in S.\\n\\nConversely, if d is a divisor of the gcd(u, f) for some u, then since the gcd divides u, d divides u.\\n\\nThus, S is exactly the set of divisors d of f where d divides at least one of the unfriendly numbers.\\n\\nTherefore, the problem is equivalent to counting the number of divisors of f that do not divide any of the unfriendly numbers.\\n\\nThus, to compute S, we need to find all divisors of f that divide at least one u in the unfriendly numbers.\\n\\nThe challenge is to compute S efficiently.\\n\\nSo here\\'s the plan:\\n\\n1. Compute all the divisors of f. Let\\'s call this D.\\n\\n2. For each u in the unfriendly list, compute the gcd of u and f. Let\\'s call this g.\\n\\n3. Find all divisors of g (since these are the divisors of f that divide u).\\n\\n4. For each such divisor, mark it as present in S.\\n\\n5. After processing all u\\'s, the answer is the number of divisors in D not present in S.\\n\\nBut the problem is that for each u, the divisors of g can be numerous. For example, if f is 1e12 and u is 1e18, then g could be a large number with many divisors. So if we process each u and collect all the divisors of g, this might be time-consuming.\\n\\nAlternative approach: Instead of processing each u, compute the union of all divisors of g\\'s, where g is the gcd of u and f. But how?\\n\\nWait, another observation: For a divisor d of f, d is in S if and only if there exists some u where d divides u and d divides f. Since d divides f, the condition is simply d divides u.\\n\\nBut d is a divisor of f. So for each d in D, check if any u in the unfriendly list is divisible by d. If yes, then d is in S.\\n\\nSo the problem reduces to, for each d in D (divisors of f), check whether any of the u\\'s is divisible by d.\\n\\nIf yes, then exclude d. Else, include d in the count.\\n\\nSo the question becomes: How to efficiently check for each d in D whether any u is divisible by d.\\n\\nBut D can have up to O(1e6) divisors (if f is 1e12, the maximum number is 1344 divisors for 735134400000, which is 1e12). Wait, no. Wait, the number of divisors of a number depends on its prime factorization. For example, 1e12 = (2^12)(5^12). So the number of divisors is (12+1)*(12+1) = 169. So even for large f, the number of divisors is manageable.\\n\\nSo the approach can be:\\n\\n1. Compute all divisors of f.\\n\\n2. For each d in divisors, check if there exists at least one u in the unfriendly list that is divisible by d.\\n\\n3. Count the number of d\\'s where no u is divisible by d.\\n\\nBut how to do step 2 efficiently?\\n\\nFor each d in D, check if any u in the list is divisible by d. For n up to 1e6, and D up to 1e3, this would be 1e9 operations. Which is way too slow.\\n\\nSo we need a way to compute for all d in D whether any u is divisible by d, in O(n + |D|) time or similar.\\n\\nAn efficient way to do this is to precompute a frequency array or a hash set. But with the numbers being up to 1e18, we can\\'t do that. So alternative approaches are needed.\\n\\nAlternative idea: For each u, compute the set of divisors of f that divide u. Then, collect all such divisors. The union of all these divisors is S. The answer is |D| - |S|.\\n\\nBut again, the problem is how to compute for each u the divisors of f that divide u.\\n\\nBut since f is fixed, perhaps we can precompute the divisors of f, and for each u, compute the gcd of u and f. Then, the divisors of the gcd are the divisors of f that divide u. So for each u, we can compute the gcd, then find all its divisors, which are a subset of D.\\n\\nBut if for each u, we find the divisors of gcd(u, f), then collect all these divisors into a set S. Then the answer is |D| - |S|.\\n\\nBut the problem is that for each u, computing the divisors of the gcd can be time-consuming. Because for a given g = gcd(u, f), the number of divisors can be up to, say, 1e3 for large g. But with n up to 1e6, this would be 1e9 operations.\\n\\nWait, but perhaps there\\'s a smarter way. Since we only need to collect the set of divisors of f that divide at least one u, perhaps we can compute the maximum possible S by considering each divisor d of f and checking if any u is divisible by d.\\n\\nBut how to check this efficiently.\\n\\nAlternative approach: For each divisor d of f, check if any u is divisible by d.\\n\\nThis can be done by, for each d in D, iterate through all u and check if d divides u. But this is O(n * |D|), which may be too slow for n=1e6 and |D|=1e3 (1e9 operations).\\n\\nHmm. So this approach is O(n * |D|), which is not feasible.\\n\\nAlternative idea: Precompute a set of all the u\\'s. Then, for each d in D, check if there exists a u in the list where u mod d == 0. But how to do this efficiently.\\n\\nAnother approach: For each d in D, precompute how many u\\'s are divisible by d. But again, for large D, this is O(n * |D|) time.\\n\\nAlternative idea: For each u in the list, compute the gcd(g) of u and f, then collect all the divisors of g into a set S. The problem is to compute the union of all these divisors.\\n\\nBut perhaps we can find all such divisors by first collecting all the possible g\\'s (the gcds of u and f) for all u, then compute their divisors.\\n\\nBut even that, if there are 1e6 unique g\\'s, each with up to 1e3 divisors, that\\'s 1e9 operations.\\n\\nWait, but perhaps for each u, the gcd with f is unique, but many u\\'s can share the same gcd. So, for example, if multiple u\\'s have the same g, then the divisors of g would be processed once for each occurrence of g. So perhaps we can first collect all unique g\\'s from the unfriendly numbers, compute their divisors, and then take the union. This way, the number of unique g\\'s could be small, which reduces the work.\\n\\nFor example, if all u\\'s are even and f is even, then the gcd for all u\\'s would be even. But perhaps multiple u\\'s have the same gcd. So, for the sample input, the u\\'s are 2,5,7,4,3,8,3,18. The gcd of each with f=16 is as follows:\\n\\nFor u=2: gcd(2,16)=2 → divisors are 1,2.\\n\\nu=5: gcd(5,16)=1 → divisors are 1.\\n\\nu=7: gcd=1 → divisors 1.\\n\\nu=4: gcd=4 → divisors 1,2,4.\\n\\nu=3: gcd=1 → 1.\\n\\nu=8: gcd=8 → divisors 1,2,4,8.\\n\\nu=3: same as before.\\n\\nu=18: gcd(18,16)=2 → divisors 1,2.\\n\\nSo the unique g\\'s are 1,2,4,8. For each of these, their divisors are:\\n\\n1: [1]\\n\\n2: [1,2]\\n\\n4: [1,2,4]\\n\\n8: [1,2,4,8]\\n\\nSo the union is {1,2,4,8}.\\n\\nThus, the divisors of f (16) are [1,2,4,8,16]. The S set is {1,2,4,8}, so the answer is 1 (the divisor 16).\\n\\nSo if we can find all unique g\\'s, compute their divisors, and take the union, then the answer is |D| - |S|.\\n\\nThis approach would be:\\n\\n1. Compute all divisors of f → D.\\n\\n2. Collect all unique g\\'s where g = gcd(u, f) for each u in the unfriendly list.\\n\\n3. For each unique g in the collected g\\'s, compute all divisors of g, which are in D (since g divides f, so all divisors of g are also divisors of f).\\n\\n4. Collect all these divisors into a set S.\\n\\n5. The answer is |D| - |S|.\\n\\nSo the key steps are:\\n\\n- Find all unique g\\'s (gcd(u, f) for u in the list).\\n\\n- For each g, compute its divisors (which are a subset of D).\\n\\n- Union all those divisors into S.\\n\\nThen, subtract the size of S from the total number of divisors.\\n\\nThis approach\\'s time complexity depends on the number of unique g\\'s and the number of divisors per g.\\n\\nFor example, if there are m unique g\\'s, each with an average of k divisors, then the total operations are m * k. If m is 1e6 and k is 1e3, that\\'s 1e9 again, which is not feasible. But perhaps in practice, m is much smaller than n, especially if many u\\'s share the same gcd with f.\\n\\nBut how to find the unique g\\'s efficiently.\\n\\nSo steps in code:\\n\\n1. Read n and f.\\n\\n2. Read the list of unfriendly numbers. Let\\'s call it u_list.\\n\\n3. Compute all the divisors of f. Let\\'s call them divisors_f.\\n\\n4. Compute the set of unique g\\'s, where g = gcd(u, f) for each u in u_list.\\n\\n   To do this, iterate through each u in u_list, compute g, and add it to a set of unique_g.\\n\\n5. For each g in unique_g, compute all divisors of g. Since g divides f, these divisors are all in divisors_f.\\n\\n6. Collect all these divisors into a set S.\\n\\n7. The answer is the number of elements in divisors_f that are not in S.\\n\\nBut how to compute divisors of g efficiently.\\n\\nBut since g divides f, and we have already found all the divisors of f, the divisors of g are exactly the divisors of f that divide g.\\n\\nSo for each g in unique_g, the divisors of g are the elements in divisors_f that divide g.\\n\\nWait, no. For example, if f=16, and g=2 (divisor of 16), the divisors of g are 1 and 2, which are indeed in the divisors of f.\\n\\nBut how to find the divisors of g (which is a divisor of f) in the list of divisors of f. Since divisors of g are a subset of divisors of f, perhaps we can precompute a list of the divisors of f, sorted, and for each g in unique_g, find all divisors of g by iterating through the list of divisors of f and checking which ones divide g.\\n\\nBut this would be O(|divisors_f|) per g. So if unique_g has m elements, and |divisors_f| is k, then O(m*k) time.\\n\\nBut k can be up to 1e4 (for very composite f), and m could be up to n=1e6. So 1e6 * 1e4 = 1e10 operations, which is way too slow.\\n\\nAlternative idea: For each unique_g, find its divisors by factorizing g and then generating the divisors from the prime factors.\\n\\nBut factorizing each g could be time-consuming if g is large. However, since g is a divisor of f, perhaps we can factorize f first, then factorize each g by using the factors of f.\\n\\nYes! Because g divides f, so all prime factors of g are also prime factors of f. So if we precompute the prime factorization of f, then any g (which is a divisor of f) can be factorized by simply taking the exponents of the primes in f\\'s factorization that are present in g.\\n\\nSo here\\'s the plan:\\n\\n1. Factorize f into its primes. For example, f = p1^e1 * p2^e2 * ... * pn^en.\\n\\n2. Precompute all the divisors of f. Since we can generate them from the exponents of the primes in f\\'s factorization.\\n\\n3. For each unique_g in unique_g set:\\n\\n   a. Since g divides f, its prime factors are a subset of f\\'s prime factors. So to factorize g, we can check for each prime in f\\'s factorization how much it appears in g.\\n\\n   b. Once we have the exponents of each prime in g\\'s factorization, generate all divisors of g using the same method as generating divisors of f.\\n\\nThis way, generating divisors for each g is O(k) where k is the number of divisors of g.\\n\\nBut how to get the exponents of g\\'s primes.\\n\\nWait, but for example, let\\'s say f is 12 = 2^2 * 3^1. Then g could be 6 = 2^1 * 3^1. To get the exponents of 2 and 3 in g, we can divide g by each prime in f\\'s factorization and count the exponents.\\n\\nBut since g is a divisor of f, the exponents in g\\'s factorization are less than or equal to those in f.\\n\\nSo, the steps for factorizing g would be:\\n\\nFor each prime p in f\\'s prime factors:\\n\\n   e = 0\\n\\n   while g is divisible by p:\\n\\n       e +=1\\n\\n       g = g / p\\n\\n   Then, the exponent of p in g is e.\\n\\nBut since g is a divisor of f, this will work.\\n\\nSo, the code plan is:\\n\\n1. Factorize f into primes.\\n\\n   For example, f = 16 → factors are 2^4.\\n\\n2. Generate all divisors of f from the prime exponents.\\n\\n3. For each u in u_list:\\n\\n   compute g = gcd(u, f)\\n\\n   add g to unique_g set.\\n\\n4. For each g in unique_g set:\\n\\n   factorize g by using the primes of f. For each prime p in f\\'s factors, compute the exponent in g.\\n\\n   Then generate all divisors of g from these exponents.\\n\\n   Add these divisors to S.\\n\\n5. The answer is the total number of divisors of f minus the size of S.\\n\\nBut the problem is factorizing g. Since g can be up to 1e13 (since f is up to 1e13), and the number of primes in f\\'s factorization is small, this is manageable.\\n\\nFor example, if f has 5 prime factors, then for each g in unique_g, we check each prime of f to see how many times it divides g.\\n\\nThus, for each g, factorizing it would take O(k) time, where k is the number of distinct primes in f\\'s factorization.\\n\\nAssuming that f has a small number of prime factors (since 1e13 can have factors like 2^something, 3^something, etc., but the number of primes is at most log2(1e13) ≈ 43, but in reality, the number is small), this is feasible.\\n\\nSo the steps to factorize g:\\n\\nSuppose f\\'s prime factors are [p1, p2, ..., pm] with exponents [e1, e2, ..., em]. For a given g (a divisor of f), for each p_i in the list, the exponent of p_i in g is the maximum power that divides g.\\n\\nSo for example, if f is 2^4 * 3^2, and g is 12 = 2^2 *3^1, then the exponents are 2 and 1.\\n\\nSo, for each prime p in f\\'s factors:\\n\\n   count how many times p divides g.\\n\\nWe can do this by initializing a list to store the exponents for each prime in f\\'s factors. Then, for each prime p, we divide g by p as much as possible and count.\\n\\nBut this is O(m) per g, where m is the number of prime factors of f. Since m is small (for example, up to 13 for f=1e13), this is manageable.\\n\\nOnce we have the exponents for each prime in g, we can generate all divisors of g by taking all combinations of exponents up to those in g.\\n\\nThus, generating the divisors for each g can be done efficiently.\\n\\nSo putting it all together:\\n\\nThe code steps are:\\n\\n1. Read n and f.\\n\\n2. Read the list of unfriendly numbers.\\n\\n3. Factorize f into its prime factors.\\n\\n4. Generate all the divisors of f. This can be done via backtracking on the exponents of the primes.\\n\\n5. Compute the set of unique_g = {gcd(u, f) for u in u_list}.\\n\\n6. For each g in unique_g:\\n\\n   a. Factorize g by checking exponents of each prime in f\\'s factors.\\n\\n   b. Generate all divisors of g from these exponents.\\n\\n   c. Add these divisors to the set S.\\n\\n7. The answer is the number of divisors of f not in S.\\n\\nNow, let\\'s think about implementing this.\\n\\nFirst, factorizing f. For f up to 1e13, factorization can be done via trial division. But 1e13\\'s square root is 1e6.5, which is 3e6, so trial division is feasible for small primes. Alternatively, we can use Pollard\\'s algorithm for faster factorization, but for 1e13, trial division should be manageable.\\n\\nBut since the problem allows for f up to 1e13, let\\'s think about how to factorize f.\\n\\nFor example:\\n\\ndef factorize(n):\\n    factors = {}\\n    i = 2\\n    while i*i <=n:\\n        while n%i ==0:\\n            factors[i] = factors.get(i,0) +1\\n            n = n//i\\n        i +=1\\n    if n>1:\\n        factors[n] =1\\n    return factors\\n\\nBut if n is 1e13, the loop runs up to 1e6.5, which is 3e6 iterations. For Python, this is acceptable.\\n\\nOnce we have the factors, generating the divisors is straightforward.\\n\\nFor example, for factors = {2:4}, the divisors are 2^0, 2^1, 2^2, 2^3, 2^4 → 1,2,4,8,16.\\n\\nTo generate divisors, recursively generate all combinations of exponents.\\n\\nAlternatively, for each prime and its exponents, multiply the current list by all possible exponents. For example:\\n\\ndivisors = [1]\\nfor p in factors:\\n    exponents = [p**e for e in range(factors[p]+1)]\\n    divisors = [d * e for d in divisors for e in exponents]\\n\\nBut wait, that would generate all combinations correctly. For example, initial divisors is [1], then for each prime, multiply by all exponents of that prime. So for factors 2:4 and 3:2, the code would generate all 5*3=15 divisors.\\n\\nBut in code, this can be implemented as:\\n\\ndivisors = [1]\\nfor p in factors:\\n    exponents = []\\n    for e in range(factors[p] +1):\\n        exponents.append(p**e)\\n    temp = []\\n    for d in divisors:\\n        for exp in exponents:\\n            temp.append(d * exp)\\n    divisors = temp\\n\\nBut this is O(k) for each prime, where k is the current number of divisors. So for factors like 2^4, the code would generate 5 divisors. For each additional prime, it multiplies the current number by (exponents +1). So this is manageable.\\n\\nOnce we have the divisors, sorted or not, we can proceed.\\n\\nNow, for each unique_g, we need to factorize it based on the primes of f. For example, if f\\'s primes are [2,3,5], then for g=6, we check how many times 2, 3, and 5 divide 6. 2^1, 3^1, 5^0.\\n\\nThen, generate all possible combinations of exponents for each prime up to the exponents in g.\\n\\nFor example, for exponents [1,1,0], the divisors are 2^0 *3^0 *5^0 =1, 2^1*3^0=2, 2^0*3^1=3, 2^1*3^1=6, etc. Wait, but since 5\\'s exponent is zero, any exponent for 5 is zero.\\n\\nWait, but in the code for generating divisors of g, since the primes are the same as f\\'s primes, but with possibly lower exponents, the code can reuse the same method as generating f\\'s divisors.\\n\\nSo the code for generating divisors of g is:\\n\\ndef get_divisors(g, primes_f):\\n    factors = {}\\n    for p in primes_f:\\n        count =0\\n        while g % p ==0:\\n            count +=1\\n            g = g // p\\n        factors[p] = count\\n    # Now generate divisors from factors\\n    divisors = [1]\\n    for p in primes_f:\\n        exponents = [p**e for e in range(factors[p]+1)]\\n        temp = []\\n        for d in divisors:\\n            for e in exponents:\\n                temp.append(d * e)\\n        divisors = temp\\n    return divisors\\n\\nBut wait, primes_f is the list of primes in f\\'s factorization. So for each p in primes_f, we get the exponent in g. Then, generate the divisors.\\n\\nYes. So for example, if f\\'s primes are [2,3], and g is 6 (2^1 *3^1), then factors for g would be {2:1, 3:1}. So generating divisors would produce 1, 2, 3, 6.\\n\\nThis works.\\n\\nThus, for each unique_g, after factorizing it into the exponents of f\\'s primes, generate its divisors and add them to the S set.\\n\\nNow, the steps in code:\\n\\nRead n and f.\\n\\nIf f is 0, but according to constraints, f is >=1.\\n\\nRead the list of unfriendly numbers. Since n can be up to 1e6, in Python, using list comprehensions should be manageable.\\n\\nFactorize f into primes.\\n\\nGenerate all divisors of f. Sort them if needed (but not necessary).\\n\\nCompute unique_g by computing the gcd of each u in the unfriendly list with f, then add to a set.\\n\\nFor each g in unique_g:\\n\\n   Factorize g using f\\'s primes.\\n\\n   Generate divisors of g.\\n\\n   Add these divisors to the set S.\\n\\nFinally, the answer is len(divisors_f) - len(S).\\n\\nBut how to handle the case when f is 0? But according to the constraints, f is >=1.\\n\\nNow, code considerations:\\n\\nBut when f is 1, then its only divisor is 1.\\n\\nFor each u, the gcd(u, 1) is 1. So the set S would contain 1. So the answer is 1-1=0.\\n\\nBut if any u is not divisible by 1, which is impossible, since 1 divides all numbers. So in this case, the answer is zero.\\n\\nBut according to the problem statement, the unfriendly numbers are >=1, so yes, S would include 1, and the answer is zero.\\n\\nAnother example: if f=1 and n=0 (but n >=1), then it\\'s not possible. But according to constraints, n is >=1.\\n\\nSo the code should handle these edge cases.\\n\\nNow, in Python, the steps:\\n\\nRead n and f.\\n\\nRead the list of u\\'s as a list.\\n\\nCompute factors of f.\\n\\nGenerate divisors of f.\\n\\nCompute unique_g = {gcd(u, f) for u in u_list}.\\n\\nFor each g in unique_g:\\n\\n   factorize into exponents based on f\\'s primes.\\n\\n   generate all divisors of g.\\n\\n   add to S.\\n\\nThe answer is len(divisors_f) - len(S).\\n\\nBut how to factorize f.\\n\\nNow, code:\\n\\nBut first, factorize f. Let\\'s write a function to factorize.\\n\\nThen, generate the divisors.\\n\\nThen, compute the unique_g.\\n\\nBut in Python, for large n=1e6, using a set to collect unique_g is feasible, as each element is an integer.\\n\\nNow, for the code:\\n\\nBut let\\'s see for the sample input.\\n\\nSample Input:\\n\\n8 16\\n\\n2 5 7 4 3 8 3 18\\n\\nunique_g is the set of gcd(u,16) for each u.\\n\\nCompute each u\\'s gcd with 16:\\n\\nu=2 → gcd(2,16)=2.\\n\\nu=5 → 1.\\n\\nu=7 → 1.\\n\\nu=4 →4.\\n\\nu=3 →1.\\n\\nu=8 →8.\\n\\nu=3 →1.\\n\\nu=18 →gcd(18,16)=2.\\n\\nSo unique_g is {1,2,4,8}.\\n\\nFor each g in unique_g:\\n\\ng=1:\\n\\n   factors are {2:0} (since f=16\\'s primes are [2]).\\n\\n   divisors are [1].\\n\\ng=2:\\n\\n   factors {2:1} → divisors 1, 2.\\n\\ng=4:\\n\\n   factors {2:2} → divisors 1,2,4.\\n\\ng=8:\\n\\n   factors {2:3} → divisors 1,2,4,8.\\n\\nThus, S is {1,2,4,8}.\\n\\ndivisors_f is [1,2,4,8,16]. len is 5. So answer 5-4=1.\\n\\nWhich matches the sample.\\n\\nThus, the code should work.\\n\\nNow, code:\\n\\nBut let\\'s proceed to write the code.\\n\\nFirst, read the input.\\n\\nThen, factorize f.\\n\\nThen, generate the divisors.\\n\\nThen compute the unique_g.\\n\\nThen, for each g in unique_g, generate its divisors.\\n\\nThen, S is the union.\\n\\nFinally, the answer is the count.\\n\\nNow, in code.\\n\\nBut in Python, for handling large numbers, we can use math.gcd.\\n\\nBut since the numbers can be up to 1e18, but math.gcd can handle that.\\n\\nBut for the list of u\\'s, reading them as integers is possible.\\n\\nSo, code:\\n\\nimport sys\\nimport math\\nfrom math import gcd\\nfrom functools import reduce\\n\\ndef factorize(n):\\n    factors = {}\\n    while n % 2 == 0:\\n        factors[2] = factors.get(2, 0) + 1\\n        n = n //2\\n    i=3\\n    while i*i <=n:\\n        while n %i ==0:\\n            factors[i] = factors.get(i,0) +1\\n            n =n//i\\n        i +=2\\n    if n>2:\\n        factors[n] =1\\n    return factors\\n\\ndef generate_divisors(factors):\\n    divisors = [1]\\n    for p in factors:\\n        exponents = [p**e for e in range(factors[p]+1)]\\n        new_divisors = []\\n        for d in divisors:\\n            for exp in exponents:\\n                new_divisors.append(d * exp)\\n        divisors = new_divisors\\n    return sorted(divisors)\\n\\ndef main():\\n    input = sys.stdin.read().split()\\n    idx=0\\n    n = int(input[idx])\\n    idx +=1\\n    f = int(input[idx])\\n    idx +=1\\n    u_list = list(map(int, input[idx:idx+n]))\\n    \\n    if f ==0:\\n        print(0)\\n        return\\n    \\n    factors = factorize(f)\\n    primes_f = list(factors.keys())\\n    divisors_f = generate_divisors(factors)\\n    # Compute unique_g\\n    unique_g = set()\\n    for u in u_list:\\n        g = math.gcd(u, f)\\n        unique_g.add(g)\\n    \\n    S = set()\\n    for g in unique_g:\\n        # factorize g based on primes of f\\n        g_factors = {}\\n        for p in primes_f:\\n            e =0\\n            temp_g = g\\n            while temp_g % p ==0:\\n                e +=1\\n                temp_g = temp_g //p\\n            g_factors[p] = e\\n        # generate divisors of g\\n        divisors_g = [1]\\n        for p in primes_f:\\n            exponents = [p**e for e in range(g_factors[p]+1)]\\n            new_div = []\\n            for d in divisors_g:\\n                for exp in exponents:\\n                    new_div.append(d * exp)\\n            divisors_g = new_div\\n        for d in divisors_g:\\n            S.add(d)\\n    # answer is len(divisors_f) - len(S)\\n    print(len(divisors_f) - len(S))\\n\\nif __name__ == \"__main__\":\\n    main()\\n\\nWait, but generate_divisors for g may generate duplicates. For example, if two different g\\'s have the same divisors. But since we add them to a set S, duplicates are handled automatically.\\n\\nBut wait, when generating divisors_g for g=2 (primes_f is [2]), the divisors are 1 and 2. So for g=2 and g=18 (which also has gcd 2), the same divisors are added again. But adding to a set S will ignore duplicates.\\n\\nThus, the code is correct.\\n\\nBut let\\'s test it with the sample input.\\n\\nSample Input:\\n\\n8 16\\n\\n2 5 7 4 3 8 3 18\\n\\nThe code reads n=8, f=16.\\n\\nu_list is [2,5,7,4,3,8,3,18]\\n\\nfactors of 16 is {2:4}.\\n\\ndivisors_f is [1,2,4,8,16].\\n\\nunique_g is {1,2,4,8}.\\n\\nFor each g in unique_g:\\n\\ng=1:\\n\\ng_factors for primes [2] is 0.\\n\\ndivisors_g is [1].\\n\\ng=2:\\n\\ng_factors for 2 is 1.\\n\\ndivisors_g is [1,2].\\n\\ng=4:\\n\\ng_factors for 2 is 2. divisors are [1,2,4].\\n\\ng=8:\\n\\ng_factors for 2 is 3. divisors are [1,2,4,8].\\n\\nAdding all to S: 1,2,4,8.\\n\\nThus, S has 4 elements. divisors_f has 5. So 5-4=1.\\n\\nWhich is correct.\\n\\nAnother test case: f=1.\\n\\nSuppose n=2, f=1, unfriendly numbers are 1 and 2.\\n\\nunique_g is {gcd(1,1)=1, gcd(2,1)=1} → set {1}.\\n\\nFor g=1, factors based on f\\'s primes (which is none if f=1). Wait, wait.\\n\\nWait, when f=1, factorize(1) returns empty dict. Then, generate_divisors for empty factors returns [1], since the initial list is [1], and no primes are processed. So divisors_f is [1].\\n\\nThen, unique_g is {1}.\\n\\nFor g=1, primes_f is empty. So the loop over primes_f is not entered. divisors_g is [1].\\n\\nThus, S is {1}, answer is 1-1=0.\\n\\nWhich is correct.\\n\\nAnother test case: f=6 (factors 2 and 3). u_list has 4 and 9.\\n\\ngcd(4,6)=2. divisors of 2 are 1,2.\\n\\ngcd(9,6)=3. divisors of 3 are 1,3.\\n\\nS is {1,2,3}. divisors_f of 6 are 1,2,3,6. So answer is 4-3=1 (divisor 6).\\n\\nYes, since 6 is a divisor of 6, but 6 does not divide any u in the list (4 and 9). So yes.\\n\\nThus, code works.\\n\\nBut how about when f is 0? But according to the problem constraints, f is >=1.\\n\\nBut in code, there is a check for f==0, which prints 0. But according to the problem statement, f can be 1, but not 0. So this case is handled.\\n\\nPotential edge cases:\\n\\n- All divisors of f are present in S. Then the answer is zero.\\n\\n- S is empty, which is possible only if all unique_g is 1 and f has no other divisors. For example, f=1. But S will include 1.\\n\\nBut if f= prime p, and all u\\'s are coprime with p, then unique_g is {1}, divisors of g=1 is [1], S={1}, so answer is (p\\'s divisors count) -1. For example, p=5, divisors are 1,5. S={1}, answer is 1 (divisor 5).\\n\\nBut if there is a u that is divisible by 5, then unique_g will include 5. Then divisors of 5 are 1,5. So S has 1 and5. Answer is 0.\\n\\nThus, code works.\\n\\nNow, performance considerations.\\n\\nFor n=1e6, and each u requires a gcd computation. In Python, the math.gcd function is optimized, but it\\'s O( log min(u,f) ) per gcd. But since u and f are up to 1e18, this is manageable for 1e6 elements.\\n\\nThe unique_g set can have up to 1e6 elements, but in practice, possibly less.\\n\\nFactorizing each unique_g using f\\'s primes. For example, if f has m primes, each g\\'s factorization into f\\'s primes is O(m) per g.\\n\\nGenerating the divisors for g is O( product of (e_i +1) ), which is the number of divisors of g. For each unique_g, this can be up to, say, 1e3, but likely manageable.\\n\\nThus, the code should be efficient enough.\\n\\nBut let\\'s think about the possible maximum steps:\\n\\nFor example, if f has 10 primes, each with exponent 1. Then, f has 2^10 =1024 divisors.\\n\\nFor each unique_g, which is a divisor of f, the number of divisors varies. For example, if g is a product of 5 primes, it has 2^5=32 divisors.\\n\\nIf there are 1e6 unique g\\'s, each with 32 divisors, then 1e6 *32=3.2e7 elements added to S, which is a set. But in Python, adding to a set is O(1) average case. So 3.2e7 operations are manageable.\\n\\nBut how likely is this scenario? For real data, the number of unique_g is likely to be small. For example, if all u\\'s are even, then unique_g will be even divisors of f. But for f=2^40, the number of possible g\\'s can be up to 40, but for u\\'s being even, their gcd with f can be any power of 2 up to the exponent in f.\\n\\nBut in the worst case, if all u\\'s are different primes, but that\\'s impossible since u can be up to 1e18. But given that f can have up to 1e6 divisors (if f is a product of many small primes), but in reality, the number is much smaller.\\n\\nThus, the code should pass all test cases within the time limits.',\n",
       " 'deepseek_solution': 'To solve this problem, we need to determine how many divisors of a given friendly number are not divisors of any of the given unfriendly numbers. The solution involves efficiently computing the divisors of the friendly number and checking their divisibility against the unfriendly numbers using mathematical optimizations.\\n\\n### Approach\\n1. **Factorize the Friendly Number**: First, factorize the friendly number into its prime factors. This helps in generating all possible divisors of the friendly number.\\n2. **Generate Divisors**: Using the prime factorization, generate all divisors of the friendly number.\\n3. **Compute GCDs**: For each unfriendly number, compute the greatest common divisor (GCD) with the friendly number. This GCD helps in identifying potential common divisors.\\n4. **Unique GCDs**: Collect all unique GCD values obtained from the previous step to avoid redundant calculations.\\n5. **Factorize GCDs**: For each unique GCD, factorize it using the prime factors of the friendly number and generate its divisors.\\n6. **Check Divisors**: Track all divisors of these GCDs, as they represent divisors of the friendly number that are also divisors of at least one unfriendly number.\\n7. **Calculate Result**: Subtract the count of such common divisors from the total number of divisors of the friendly number to get the result.\\n\\n### Solution Code\\n```python\\nimport sys\\nimport math\\nfrom math import gcd\\n\\ndef factorize(n):\\n    factors = {}\\n    while n % 2 == 0:\\n        factors[2] = factors.get(2, 0) + 1\\n        n = n // 2\\n    i = 3\\n    while i * i <= n:\\n        while n % i == 0:\\n            factors[i] = factors.get(i, 0) + 1\\n            n = n // i\\n        i += 2\\n    if n > 2:\\n        factors[n] = 1\\n    return factors\\n\\ndef generate_divisors(factors):\\n    divisors = [1]\\n    for p in factors:\\n        exponents = [p**e for e in range(factors[p] + 1)]\\n        new_divisors = []\\n        for d in divisors:\\n            for exp in exponents:\\n                new_divisors.append(d * exp)\\n        divisors = new_divisors\\n    return divisors\\n\\ndef main():\\n    input = sys.stdin.read().split()\\n    idx = 0\\n    n = int(input[idx])\\n    idx += 1\\n    f = int(input[idx])\\n    idx += 1\\n    u_list = list(map(int, input[idx:idx + n]))\\n    \\n    if f == 0:\\n        print(0)\\n        return\\n    \\n    factors = factorize(f)\\n    primes_f = list(factors.keys())\\n    divisors_f = generate_divisors(factors)\\n    \\n    unique_g = set()\\n    for u in u_list:\\n        unique_g.add(math.gcd(u, f))\\n    \\n    S = set()\\n    for g in unique_g:\\n        g_factors = {}\\n        temp_g = g  # Use a temporary variable to preserve g\\n        for p in primes_f:\\n            e = 0\\n            current_g = temp_g  # Reset current_g for each prime\\n            while current_g % p == 0:\\n                e += 1\\n                current_g = current_g // p\\n            g_factors[p] = e\\n        divisors_g = [1]\\n        for p in primes_f:\\n            exponents = [p**e for e in range(g_factors[p] + 1)]\\n            new_div = []\\n            for d in divisors_g:\\n                for exp in exponents:\\n                    new_div.append(d * exp)\\n            divisors_g = new_div\\n        for d in divisors_g:\\n            S.add(d)\\n    \\n    print(len(divisors_f) - len(S))\\n\\nif __name__ == \"__main__\":\\n    main()\\n```\\n\\n### Explanation\\n1. **Factorization**: The `factorize` function decomposes the friendly number into its prime factors, which is essential for generating all possible divisors.\\n2. **Divisors Generation**: Using the prime factors, the `generate_divisors` function generates all divisors of the friendly number.\\n3. **GCD Calculation**: For each unfriendly number, compute the GCD with the friendly number to identify common factors.\\n4. **Unique GCDs**: Storing unique GCD values ensures we process each possible common divisor only once.\\n5. **Divisor Check**: By factorizing each unique GCD and generating its divisors, we efficiently track all divisors of the friendly number that are also divisors of any unfriendly number.\\n6. **Result Calculation**: The final result is derived by subtracting the count of common divisors from the total divisors of the friendly number, giving the count of unique divisors.',\n",
       " 'prompt': [{'content': \"Given $\\\\mbox{1}$ friendly number and $n$ unfriendly numbers, determine how many numbers are divisors of the friendly number but not the unfriendly numbers.\\n\\nInput Format\\n\\nThe first line contains $2$ space-separated integers, $n$ (the number of unfriendly numbers) and $\\\\mbox{f}$ (the friendly number), respectively. \\nThe second line contains $n$ space-separated unfriendly numbers.\\n\\nConstraints\\n\\n$1\\\\leq n\\\\leq10^{6}$\\n$1\\\\leq f\\\\leq10^{13}$\\n$1\\\\leq\\\\textit{unfriendly numbers}\\\\leq10^{18}$\\n\\nOutput Format\\n\\nPrint the the number of unique divisors of $\\\\mbox{f}$ (i.e.: divisors that are not shared with those of the unfriendly numbers) as a single integer.\\n\\nSample Input\\n8 16\\n2 5 7 4 3 8 3 18\\n\\nSample Output\\n1\\n\\nExplanation\\n\\nThere are $n=8$ unfriendly numbers: $2,5,7,4,3,8,3,18$. \\n\\nOur friendly number, $\\\\mbox{f}$, is $\\\\mbox{16}$, and its even divisors are $1,2,4,8,16$. \\n\\nLet $\\\\textit{count}$ be the number of friendly divisors that are not also unfriendly divisors. Let's determine which divisors of $\\\\mbox{f}$ are not also divisors of the unfriendly numbers:\\n\\n$\\\\mbox{1}$ is a divisor of all unfriendly numbers, so we disregard it.   \\n$2$ is a divisor of unfriendly numbers $2$, $\\\\begin{array}{c}4\\\\end{array}$, and $8$, so we disregard it.\\n$\\\\begin{array}{c}4\\\\end{array}$ is a divisor of unfriendly numbers $\\\\begin{array}{c}4\\\\end{array}$ and $8$, so we disregard it.\\n$8$ is a divisor of unfriendly number $8$, so we disregard it. \\n$\\\\mbox{16}$ is not a divisor of any unfriendly number, so we increment $\\\\textit{count}$ to $\\\\mbox{1}$.\\n\\nAs there are no more friendly divisors to check, we print the value of $\\\\textit{count}$ (which is $\\\\mbox{1}$) on a new line.\",\n",
       "   'role': 'user'}],\n",
       " 'domain': 'code',\n",
       " 'language': 'en',\n",
       " 'data_id': 9215,\n",
       " 'prompt_id': 0,\n",
       " 'length': 10574,\n",
       " 'rank': 0.9785637727759914}"
      ]
     },
     "execution_count": 67,
     "metadata": {},
     "output_type": "execute_result"
    }
   ],
   "source": [
    "dataset[-1000]"
   ]
  },
  {
   "cell_type": "code",
   "execution_count": 70,
   "id": "d8e7511efa2139e8",
   "metadata": {
    "ExecuteTime": {
     "end_time": "2025-03-16T13:23:45.184686Z",
     "start_time": "2025-03-16T13:23:45.178807Z"
    }
   },
   "outputs": [
    {
     "data": {
      "text/plain": [
       "{'deepseek_reasoning': '总时间30分钟，减去到学校大门的15分钟，再减去到学校楼的6分钟，剩余时间为9分钟。',\n",
       " 'deepseek_solution': '\\\\boxed{9}',\n",
       " 'prompt': [{'content': '请一步步推理，并把最终答案放到 \\\\boxed{}。', 'role': 'system'},\n",
       "  {'content': '我和我弟弟有30分钟去学校，不能迟到。我们到学校大门需要15分钟，再花6分钟到学校楼。我们还有多少时间到我们的教室，不会迟到？',\n",
       "   'role': 'user'}],\n",
       " 'domain': 'math',\n",
       " 'language': 'zh',\n",
       " 'data_id': 5822,\n",
       " 'prompt_id': 4,\n",
       " 'length': 36,\n",
       " 'rank': 0.0021436227224008574}"
      ]
     },
     "execution_count": 70,
     "metadata": {},
     "output_type": "execute_result"
    }
   ],
   "source": [
    "dataset[100]"
   ]
  },
  {
   "cell_type": "code",
   "execution_count": 77,
   "id": "47aedc51760c2994",
   "metadata": {
    "ExecuteTime": {
     "end_time": "2025-03-16T13:26:33.041305Z",
     "start_time": "2025-03-16T13:26:32.883892Z"
    }
   },
   "outputs": [],
   "source": [
    "new_dataset=dataset.select(range(100,len(dataset)-1000))"
   ]
  },
  {
   "cell_type": "code",
   "execution_count": 78,
   "id": "2cb1ad2a23ef6222",
   "metadata": {
    "ExecuteTime": {
     "end_time": "2025-03-16T13:26:38.701042Z",
     "start_time": "2025-03-16T13:26:38.694868Z"
    }
   },
   "outputs": [
    {
     "data": {
      "text/plain": [
       "Dataset({\n",
       "    features: ['deepseek_reasoning', 'deepseek_solution', 'prompt', 'domain', 'language', 'data_id', 'prompt_id', 'length', 'rank'],\n",
       "    num_rows: 45550\n",
       "})"
      ]
     },
     "execution_count": 78,
     "metadata": {},
     "output_type": "execute_result"
    }
   ],
   "source": [
    "new_dataset"
   ]
  },
  {
   "cell_type": "code",
   "execution_count": 79,
   "id": "59a73d1e13de962e",
   "metadata": {
    "ExecuteTime": {
     "end_time": "2025-03-16T13:26:52.301813Z",
     "start_time": "2025-03-16T13:26:41.831905Z"
    }
   },
   "outputs": [
    {
     "data": {
      "application/vnd.jupyter.widget-view+json": {
       "model_id": "0b6747d3a7fe485391c2e0fac717cd17",
       "version_major": 2,
       "version_minor": 0
      },
      "text/plain": [
       "Map:   0%|          | 0/45550 [00:00<?, ? examples/s]"
      ]
     },
     "metadata": {},
     "output_type": "display_data"
    }
   ],
   "source": [
    "new_dataset=new_dataset.map(lambda x, i: {'rank': i/len(new_dataset)}, with_indices=True)"
   ]
  },
  {
   "cell_type": "code",
   "id": "b2383f141dde9fb",
   "metadata": {
    "ExecuteTime": {
     "end_time": "2025-03-16T14:21:35.155099Z",
     "start_time": "2025-03-16T14:21:34.801256Z"
    }
   },
   "source": [
    "# 保存数据集为 parquet 格式\n",
    "new_dataset.save_to_disk('/data/MaoXiaowei/models/adre/dataset/mix_filtered_45k')\n"
   ],
   "outputs": [
    {
     "data": {
      "text/plain": [
       "Saving the dataset (0/1 shards):   0%|          | 0/45550 [00:00<?, ? examples/s]"
      ],
      "application/vnd.jupyter.widget-view+json": {
       "version_major": 2,
       "version_minor": 0,
       "model_id": "087fbb78798449549db6130b7c61d6c0"
      }
     },
     "metadata": {},
     "output_type": "display_data"
    }
   ],
   "execution_count": 86
  },
  {
   "cell_type": "code",
   "execution_count": null,
   "id": "96e29f59845e836d",
   "metadata": {},
   "outputs": [],
   "source": []
  }
 ],
 "metadata": {
  "kernelspec": {
   "display_name": "Python 3",
   "language": "python",
   "name": "python3"
  },
  "language_info": {
   "codemirror_mode": {
    "name": "ipython",
    "version": 2
   },
   "file_extension": ".py",
   "mimetype": "text/x-python",
   "name": "python",
   "nbconvert_exporter": "python",
   "pygments_lexer": "ipython2",
   "version": "2.7.6"
  }
 },
 "nbformat": 4,
 "nbformat_minor": 5
}
